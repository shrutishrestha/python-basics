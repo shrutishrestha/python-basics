{
 "cells": [
  {
   "cell_type": "markdown",
   "metadata": {},
   "source": [
    "# Exception Handling"
   ]
  },
  {
   "cell_type": "markdown",
   "metadata": {},
   "source": [
    "* try: to try a statement if it might throw an exception\n",
    "* except: catches the exception thrown by the try block and returns meaningful message according to the error type\n",
    "* else: runs if stsatement in try block executes without throwing an exception\n",
    "* finally: block of code will always be run regardless if there was an exception in the try code block.\n"
   ]
  },
  {
   "cell_type": "code",
   "execution_count": 1,
   "metadata": {},
   "outputs": [],
   "source": [
    "try:\n",
    "    result = 10+'10'\n",
    "except:\n",
    "    print(\"seems like it has an error\")#if it has an error in try block\n",
    "else:\n",
    "    print(\"addition went well\")#if try went well and it did not enter in the except block\n",
    "    print(result)"
   ]
  },
  {
   "cell_type": "code",
   "execution_count": 2,
   "metadata": {},
   "outputs": [],
   "source": [
    "try:\n",
    "    f=open('testfile','w') # write in a file or create if it doesnot exist\n",
    "    f.write('Write a test line')\n",
    "except TypeError: #only if there is a typeerror\n",
    "    print(\"there is an type error \")\n",
    "except OSError:\n",
    "    print(\"hey u have an OS error\")\n",
    "except IOError:\n",
    "    print(\"couldnot get the file\") \n",
    "finally: #always execute no matter what\n",
    "    print(\"I always run\")\n",
    "    \n",
    "    "
   ]
  },
  {
   "cell_type": "code",
   "execution_count": 3,
   "metadata": {},
   "outputs": [
    {
     "name": "stdout",
     "output_type": "stream",
     "text": [
      "hey u have an OS error\n",
      "I always run\n"
     ]
    }
   ],
   "source": [
    "#an OS error\n",
    "try:\n",
    "    f=open('testfile','r') # read in a file\n",
    "    f.write('Write a test line')\n",
    "except TypeError: #only if there is a typeerror\n",
    "    print(\"there is an type error \")\n",
    "except OSError:\n",
    "    print(\"hey u have an OS error\") #file opened in read mode but write command was executed\n",
    "except IOError:\n",
    "    print('Could not get file')\n",
    "except:\n",
    "    print(\"other types of error\")\n",
    "finally: #always execute no matter what\n",
    "    print(\"I always run\")\n",
    "    \n",
    "    "
   ]
  },
  {
   "cell_type": "code",
   "execution_count": 4,
   "metadata": {},
   "outputs": [],
   "source": [
    "def ask_for_int():\n",
    "    try:\n",
    "        result = int(input(\"please provide number: \"))\n",
    "    except:\n",
    "        print(\"whoops that is not an number\")\n",
    "    finally:\n",
    "        print(\"end of try except finally\")\n",
    "        "
   ]
  },
  {
   "cell_type": "code",
   "execution_count": 5,
   "metadata": {},
   "outputs": [
    {
     "name": "stdout",
     "output_type": "stream",
     "text": [
      "please provide number: w\n",
      "whoops that is not an number\n",
      "end of try except finally\n"
     ]
    }
   ],
   "source": [
    "ask_for_int()"
   ]
  },
  {
   "cell_type": "code",
   "execution_count": 6,
   "metadata": {},
   "outputs": [
    {
     "name": "stdout",
     "output_type": "stream",
     "text": [
      "please provide number: 1\n",
      "end of try except finally\n"
     ]
    }
   ],
   "source": [
    "ask_for_int()\n"
   ]
  },
  {
   "cell_type": "markdown",
   "metadata": {},
   "source": [
    "put while to conitue until user enters the right answer"
   ]
  },
  {
   "cell_type": "code",
   "execution_count": 7,
   "metadata": {},
   "outputs": [],
   "source": [
    "def ask_for_int():\n",
    "    while True:\n",
    "        try:\n",
    "            result = int(input(\"please provide number\"))\n",
    "        except:\n",
    "            print(\"whoops that is not an number\")\n",
    "            continue # continue to ask another number\n",
    "        else:\n",
    "            print(\"yes thank you\")\n",
    "            break\n",
    "        finally:\n",
    "            print(\"end of try except finally\")\n",
    "            print(\"i will always run at the end\")\n"
   ]
  },
  {
   "cell_type": "code",
   "execution_count": 8,
   "metadata": {},
   "outputs": [
    {
     "name": "stdout",
     "output_type": "stream",
     "text": [
      "please provide numberw\n",
      "whoops that is not an number\n",
      "end of try except finally\n",
      "i will always run at the end\n",
      "please provide number1\n",
      "yes thank you\n",
      "end of try except finally\n",
      "i will always run at the end\n"
     ]
    }
   ],
   "source": [
    "ask_for_int()"
   ]
  }
 ],
 "metadata": {
  "kernelspec": {
   "display_name": "Python 3",
   "language": "python",
   "name": "python3"
  },
  "language_info": {
   "codemirror_mode": {
    "name": "ipython",
    "version": 3
   },
   "file_extension": ".py",
   "mimetype": "text/x-python",
   "name": "python",
   "nbconvert_exporter": "python",
   "pygments_lexer": "ipython3",
   "version": "3.7.6"
  }
 },
 "nbformat": 4,
 "nbformat_minor": 4
}
