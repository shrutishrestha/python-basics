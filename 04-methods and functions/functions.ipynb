{
 "cells": [
  {
   "cell_type": "markdown",
   "metadata": {},
   "source": [
    "# Function"
   ]
  },
  {
   "cell_type": "markdown",
   "metadata": {},
   "source": [
    "Methods perform specific actions on an object and can also take arguments, just like a function   \n",
    "Function is a useful device that groups together a set of statements so they can be run more than onc\n",
    "def, function name, parenthesis, indentation"
   ]
  },
  {
   "cell_type": "markdown",
   "metadata": {},
   "source": [
    "help function can be used to print docstrings and get int of the function"
   ]
  },
  {
   "cell_type": "code",
   "execution_count": 1,
   "metadata": {},
   "outputs": [
    {
     "name": "stdout",
     "output_type": "stream",
     "text": [
      "Help on function func_name in module __main__:\n",
      "\n",
      "func_name()\n",
      "    DOCSTRING: Information about the function\n",
      "    INPUT: no input\n",
      "    OUTPUT: Hello\n",
      "\n"
     ]
    }
   ],
   "source": [
    "def func_name():\n",
    "    '''\n",
    "    DOCSTRING: Information about the function\n",
    "    INPUT: no input\n",
    "    OUTPUT: Hello\n",
    "    '''\n",
    "    print(\"Hello\")\n",
    "help(func_name)"
   ]
  },
  {
   "cell_type": "code",
   "execution_count": 2,
   "metadata": {},
   "outputs": [],
   "source": [
    "def say_hello(name=\"lakme\"):#default name\n",
    "    print('hello '+ name)\n"
   ]
  },
  {
   "cell_type": "code",
   "execution_count": 3,
   "metadata": {},
   "outputs": [
    {
     "name": "stdout",
     "output_type": "stream",
     "text": [
      "hello lakme\n"
     ]
    }
   ],
   "source": [
    "say_hello()"
   ]
  },
  {
   "cell_type": "markdown",
   "metadata": {},
   "source": [
    "return statement inside function"
   ]
  },
  {
   "cell_type": "code",
   "execution_count": 4,
   "metadata": {},
   "outputs": [],
   "source": [
    "def mysum(a,b):\n",
    "    return a+b"
   ]
  },
  {
   "cell_type": "code",
   "execution_count": 5,
   "metadata": {},
   "outputs": [
    {
     "data": {
      "text/plain": [
       "5"
      ]
     },
     "execution_count": 5,
     "metadata": {},
     "output_type": "execute_result"
    }
   ],
   "source": [
    "mysum(2,3)"
   ]
  },
  {
   "cell_type": "code",
   "execution_count": 6,
   "metadata": {},
   "outputs": [],
   "source": [
    "import math\n",
    "\n",
    "def is_prime2(num):\n",
    "    '''\n",
    "    Better method of checking for primes. \n",
    "    '''\n",
    "    if num % 2 == 0 and num > 2: \n",
    "        return False\n",
    "    for i in range(3, int(math.sqrt(num)) + 1, 2):\n",
    "        if num % i == 0:\n",
    "            return False\n",
    "    return True"
   ]
  },
  {
   "cell_type": "code",
   "execution_count": 7,
   "metadata": {},
   "outputs": [
    {
     "data": {
      "text/plain": [
       "False"
      ]
     },
     "execution_count": 7,
     "metadata": {},
     "output_type": "execute_result"
    }
   ],
   "source": [
    "is_prime2(18)"
   ]
  },
  {
   "cell_type": "code",
   "execution_count": 8,
   "metadata": {},
   "outputs": [],
   "source": [
    "#child like\n",
    "def dog_check():\n",
    "    if \"dog\" in \"my dog is lakme\":\n",
    "        return True\n",
    "    else:\n",
    "        return False\n",
    "        "
   ]
  },
  {
   "cell_type": "code",
   "execution_count": 9,
   "metadata": {},
   "outputs": [
    {
     "data": {
      "text/plain": [
       "True"
      ]
     },
     "execution_count": 9,
     "metadata": {},
     "output_type": "execute_result"
    }
   ],
   "source": [
    "dog_check()"
   ]
  },
  {
   "cell_type": "markdown",
   "metadata": {},
   "source": [
    "more proff, return except assigning to a value"
   ]
  },
  {
   "cell_type": "code",
   "execution_count": 10,
   "metadata": {},
   "outputs": [],
   "source": [
    "def dog_check_pro():\n",
    "    return \"dog\" in \"my dog is lakme\""
   ]
  },
  {
   "cell_type": "code",
   "execution_count": 11,
   "metadata": {},
   "outputs": [
    {
     "data": {
      "text/plain": [
       "True"
      ]
     },
     "execution_count": 11,
     "metadata": {},
     "output_type": "execute_result"
    }
   ],
   "source": [
    "dog_check_pro()"
   ]
  },
  {
   "cell_type": "markdown",
   "metadata": {},
   "source": [
    "if first letter is vowel, add ay at last, else remove first letter an dadd ay at last"
   ]
  },
  {
   "cell_type": "code",
   "execution_count": 12,
   "metadata": {},
   "outputs": [],
   "source": [
    "def pig_word(word):\n",
    "    first_letter=word[0]\n",
    "    if first_letter.lower() in 'aeiou':\n",
    "        pig_word = (word+\"ay\")\n",
    "    else:\n",
    "        pig_word = (word[1:]+first_letter+'ay')\n",
    "    return pig_word"
   ]
  },
  {
   "cell_type": "code",
   "execution_count": 13,
   "metadata": {},
   "outputs": [
    {
     "data": {
      "text/plain": [
       "'appleay'"
      ]
     },
     "execution_count": 13,
     "metadata": {},
     "output_type": "execute_result"
    }
   ],
   "source": [
    "pig_word(\"apple\")"
   ]
  },
  {
   "cell_type": "markdown",
   "metadata": {},
   "source": [
    "### ARGS and KWARGS"
   ]
  },
  {
   "cell_type": "code",
   "execution_count": 14,
   "metadata": {},
   "outputs": [],
   "source": [
    "def twenty_percent(*args):\n",
    "    '''\n",
    "    Descritption: because of this * we can pass many parameters as we want and it gets saved as tuple\n",
    "    parameter: because of the convention, we should always use this args keyword\n",
    "    '''\n",
    "    \n",
    "    print(args)#args is tuple\n",
    "    return sum(args)*0.2"
   ]
  },
  {
   "cell_type": "code",
   "execution_count": 15,
   "metadata": {},
   "outputs": [
    {
     "name": "stdout",
     "output_type": "stream",
     "text": [
      "(5, 10, 15, 20)\n"
     ]
    },
    {
     "data": {
      "text/plain": [
       "10.0"
      ]
     },
     "execution_count": 15,
     "metadata": {},
     "output_type": "execute_result"
    }
   ],
   "source": [
    "twenty_percent(5,10,15,20)"
   ]
  },
  {
   "cell_type": "code",
   "execution_count": 16,
   "metadata": {},
   "outputs": [],
   "source": [
    "def myfunc(**kwargs): \n",
    "    '''\n",
    "    parameter: kwargs is a dictionary that is coming in, by convention kwargs should be used\n",
    "    '''\n",
    "    if 'fruit' in kwargs:\n",
    "        print(\"my fruit of choice is {}\".format(kwargs['fruit']))\n",
    "    else:\n",
    "        print('i did not find anything')\n",
    "    print(kwargs)\n"
   ]
  },
  {
   "cell_type": "code",
   "execution_count": 17,
   "metadata": {},
   "outputs": [
    {
     "name": "stdout",
     "output_type": "stream",
     "text": [
      "my fruit of choice is apple\n",
      "{'fruit': 'apple', 'vege': 'potato'}\n"
     ]
    }
   ],
   "source": [
    "myfunc(fruit = 'apple',vege ='potato')"
   ]
  },
  {
   "cell_type": "markdown",
   "metadata": {},
   "source": [
    "it should be dictionary that is passed into the function"
   ]
  },
  {
   "cell_type": "code",
   "execution_count": 18,
   "metadata": {},
   "outputs": [
    {
     "ename": "TypeError",
     "evalue": "myfunc() takes 0 positional arguments but 2 were given",
     "output_type": "error",
     "traceback": [
      "\u001b[0;31m---------------------------------------------------------------------------\u001b[0m",
      "\u001b[0;31mTypeError\u001b[0m                                 Traceback (most recent call last)",
      "\u001b[0;32m<ipython-input-18-0d9e8feee9e8>\u001b[0m in \u001b[0;36m<module>\u001b[0;34m\u001b[0m\n\u001b[0;32m----> 1\u001b[0;31m \u001b[0mmyfunc\u001b[0m\u001b[0;34m(\u001b[0m\u001b[0;34m'apple'\u001b[0m\u001b[0;34m,\u001b[0m\u001b[0;34m'potato'\u001b[0m\u001b[0;34m)\u001b[0m \u001b[0;31m#\u001b[0m\u001b[0;34m\u001b[0m\u001b[0;34m\u001b[0m\u001b[0m\n\u001b[0m",
      "\u001b[0;31mTypeError\u001b[0m: myfunc() takes 0 positional arguments but 2 were given"
     ]
    }
   ],
   "source": [
    "myfunc('apple','potato') # "
   ]
  },
  {
   "cell_type": "markdown",
   "metadata": {},
   "source": [
    "it doesnot finds value if particular key is not present"
   ]
  },
  {
   "cell_type": "code",
   "execution_count": 19,
   "metadata": {},
   "outputs": [
    {
     "name": "stdout",
     "output_type": "stream",
     "text": [
      "i did not find anything\n",
      "{'meat': 'chicken', 'vege': 'potato'}\n"
     ]
    }
   ],
   "source": [
    "myfunc(meat = 'chicken',vege ='potato')"
   ]
  },
  {
   "cell_type": "markdown",
   "metadata": {},
   "source": [
    " just as args returned tuple, kwargs returns dictionary"
   ]
  },
  {
   "cell_type": "code",
   "execution_count": 20,
   "metadata": {},
   "outputs": [],
   "source": [
    " def myfunc(*args,**kwargs):\n",
    "        print(\"i would like {} {}\".format(args[0], kwargs['food']))"
   ]
  },
  {
   "cell_type": "code",
   "execution_count": 21,
   "metadata": {},
   "outputs": [
    {
     "name": "stdout",
     "output_type": "stream",
     "text": [
      "i would like 10 banana\n"
     ]
    }
   ],
   "source": [
    "myfunc(10,20,food='banana',meat='chicken')"
   ]
  },
  {
   "cell_type": "markdown",
   "metadata": {},
   "source": [
    "can't insert kwargs as tuple parameter"
   ]
  },
  {
   "cell_type": "code",
   "execution_count": 22,
   "metadata": {},
   "outputs": [
    {
     "ename": "SyntaxError",
     "evalue": "invalid syntax (<ipython-input-22-d463c2eebdec>, line 1)",
     "output_type": "error",
     "traceback": [
      "\u001b[0;36m  File \u001b[0;32m\"<ipython-input-22-d463c2eebdec>\"\u001b[0;36m, line \u001b[0;32m1\u001b[0m\n\u001b[0;31m    myfunc(10,20,(food='banana',meat='chicken'))\u001b[0m\n\u001b[0m                      ^\u001b[0m\n\u001b[0;31mSyntaxError\u001b[0m\u001b[0;31m:\u001b[0m invalid syntax\n"
     ]
    }
   ],
   "source": [
    "myfunc(10,20,(food='banana',meat='chicken'))"
   ]
  },
  {
   "cell_type": "markdown",
   "metadata": {},
   "source": [
    "can't enter randomly i.e. args should be entered at first and then only kwargs should be placed"
   ]
  },
  {
   "cell_type": "code",
   "execution_count": 23,
   "metadata": {
    "scrolled": true
   },
   "outputs": [
    {
     "ename": "SyntaxError",
     "evalue": "positional argument follows keyword argument (<ipython-input-23-3875ae8215e4>, line 1)",
     "output_type": "error",
     "traceback": [
      "\u001b[0;36m  File \u001b[0;32m\"<ipython-input-23-3875ae8215e4>\"\u001b[0;36m, line \u001b[0;32m1\u001b[0m\n\u001b[0;31m    myfunc(10,20,food='banana',meat='chicken',30)#can not keep afterwards\u001b[0m\n\u001b[0m                                             ^\u001b[0m\n\u001b[0;31mSyntaxError\u001b[0m\u001b[0;31m:\u001b[0m positional argument follows keyword argument\n"
     ]
    }
   ],
   "source": [
    "myfunc(10,20,food='banana',meat='chicken',30)#can not keep afterwards"
   ]
  }
 ],
 "metadata": {
  "kernelspec": {
   "display_name": "Python 3",
   "language": "python",
   "name": "python3"
  },
  "language_info": {
   "codemirror_mode": {
    "name": "ipython",
    "version": 3
   },
   "file_extension": ".py",
   "mimetype": "text/x-python",
   "name": "python",
   "nbconvert_exporter": "python",
   "pygments_lexer": "ipython3",
   "version": "3.7.6"
  }
 },
 "nbformat": 4,
 "nbformat_minor": 4
}
